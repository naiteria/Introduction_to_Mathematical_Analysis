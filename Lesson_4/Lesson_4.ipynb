{
 "cells": [
  {
   "cell_type": "markdown",
   "id": "10de7d0d",
   "metadata": {},
   "source": [
    "## Практическое задание 4 урок"
   ]
  },
  {
   "cell_type": "markdown",
   "id": "1ff72856",
   "metadata": {},
   "source": [
    "__1.__ Найти предел функции:\n",
    "\n",
    "### $$а)\\,\\,\\,\\,\\lim_{x\\to 6} \\frac{x^2-36}{x^2-x-30}$$\n",
    "\n",
    "### $$б)\\,\\,\\,\\,\\lim_{x\\to 7} \\frac{x^2-49}{x^2-13x+42}$$\n",
    "\n",
    "### $$в^*)\\,\\,\\,\\,\\lim_{x\\to 7} \\frac{\\sqrt{x+2}-\\sqrt[3]{x+20}}{\\sqrt[4]{x+9}-2}$$\n",
    "\n",
    "### $$г)\\,\\,\\,\\,\\lim_{x\\to 0} \\frac{3x\\,\\mbox{tg}\\,4x}{1-\\cos4x}$$\n",
    "\n",
    "### $$д^{**})\\,\\,\\,\\,\\lim_{x\\to 0} \\frac{\\sqrt2x^2\\sin4x}{(1-\\cos2x)^{\\frac{3}{2}}}$$\n",
    "\n",
    "### $$е)\\,\\,\\,\\,\\lim_{x\\to \\infty} \\Bigr(\\frac{4x}{4x+3}\\Bigl)^\\frac{5x^2}{7x-1}$$\n",
    "\n",
    "### $$ж^*)\\,\\,\\,\\,\\lim_{x\\to +0} \\frac{5^x-1}{x}$$\n",
    "\n",
    "### $$з^*)\\,\\,\\,\\,\\lim_{x\\to +\\infty} \\frac{\\ln(x^2-x+1)}{\\ln(x^{10}+x+1)}$$"
   ]
  },
  {
   "cell_type": "markdown",
   "id": "83b62f40",
   "metadata": {},
   "source": [
    "Решение:\n",
    "\n",
    "а)\n",
    "$$\\lim_{x\\to 6} \\frac{x^2-36}{x^2-x-30}=\\Bigl(\\frac{0}{0}\\Bigr)=\\lim_{x\\to 6}\\frac{(x-6)(x+6)}{(x-6)(x+5)}=\\lim_{x\\to6}\\frac{x+6}{x+5}=\\frac{6+6}{6+5}=\\frac{12}{11}$$\n",
    "\n",
    "б)\n",
    "\n",
    "$$\\lim_{x\\to 7} \\frac{x^2-49}{x^2-13x+42}=\\Bigl(\\frac{0}{0}\\Bigr)=\\lim_{x\\to7}\\frac{(x-7)(x+7)}{(x-7)(x-6)}=\\lim_{x\\to7}\\frac{x+7}{x-6}=\\frac{7+7}{7-6}=14$$\n",
    "\n",
    "в*)\n",
    "\n",
    "$$\\lim_{x\\to 7} \\frac{\\sqrt{x+2}-\\sqrt[3]{x+20}}{\\sqrt[4]{x+9}-2}=\\Bigl(\\frac{0}{0}\\Bigr)=\\lim_{x\\to7}\\frac{\\sqrt{x+2}-\\sqrt[3]{x+20}}{\\sqrt[4]{x-9}-2}\\cdot\\frac{\\sqrt{x+2}+\\sqrt[3]{x+20}}{\\sqrt{x+2}+\\sqrt[3]{x+20}}\\cdot\\frac{\\sqrt[4]{x+9}+2}{\\sqrt{x+9}+2}=$$\n",
    "\n",
    "$$=\\lim_{x\\to7}\\frac{x+2-\\sqrt[3]{(x+20)^2}}{\\sqrt{x+9}-4}\\cdot\\frac{2+2}{3+3}=$$\n",
    "\n",
    "$$=\\lim_{x\\to7}\\frac{x+2-\\sqrt[3]{(x+20)^2}}{\\sqrt{x+9}-4}\\cdot\\frac{2}{3}\\cdot\\frac{(x+2)^2+(x+2)\\sqrt[3]{(x+20)^2}+\\sqrt[3]{(x+20)^4}}{(x+2)^2+(x+2)\\sqrt[3]{(x+20)^2}+\\sqrt[3]{(x+20)^4}}\\cdot\\frac{\\sqrt{x+9}+4}{\\sqrt{x+9}+4}=$$\n",
    "\n",
    "$$\\lim_{x\\to7}\\frac{(x+2)^3-(x+20)^2}{x+9-16}\\cdot\\frac{2}{3}\\cdot\\frac{4+4}{9^2+9\\cdot9+9^2}=\\lim_{x\\to7}\\frac{(x+2)^3-(x+20)^2}{x+9-16}\\cdot\\frac{2\\cdot8}{3\\cdot243}=$$\n",
    "\n",
    "$$=\\lim_{x\\to7}\\frac{x^3+6x^2+12x+8-x^2-40x-400}{x-7}\\cdot\\frac{2\\cdot8}{3\\cdot243}=\\lim_{x\\to7}\\frac{x^3+5x^2-28x-392}{x-7}\\cdot\\frac{2\\cdot8}{3\\cdot243}=$$\n",
    "\n",
    "$$=\\frac{49+84+56}{1}\\cdot\\frac{2\\cdot8}{3\\cdot243}=\\frac{189}{1}\\cdot\\frac{2\\cdot8}{3\\cdot243}=\\frac{112}{27}$$\n",
    "\n",
    "г)\n",
    "\n",
    "$$\\lim_{x\\to 0} \\frac{3x\\,\\mbox{tg}\\,4x}{1-\\cos4x}=\\Bigl(\\frac{0}{0}\\Bigr)=\\lim_{x\\to0}\\frac{3x\\cdot4x}{\\frac{16x^2}{2}}=\\frac{3\\cdot4}{8}=\\frac{3}{2}$$\n",
    "\n",
    "д**)\n",
    "\n",
    "$$\\lim_{x\\to 0} \\frac{\\sqrt2x^2\\sin4x}{(1-\\cos2x)^{\\frac{3}{2}}}=\\Bigl(\\frac{0}{0}\\Bigr)=\\lim_{x\\to0}\\frac{\\sqrt2x^2\\cdot4x}{\\Bigl(\\frac{4x^2}{2}\\Bigr)^{\\frac{3}{2}}}=\\lim_{x\\to0}\\frac{\\sqrt2x^2\\cdot4x}{\\sqrt{8x^6}}=\\lim_{x\\to0}\\frac{4\\sqrt{2x^3}}{2\\sqrt{2|x^3|}}=\\pm2$$\n",
    "\n",
    "Если предел в точке существует, то он единственный. По этому в этом примере предела в точке не существует.\n",
    "\n",
    "е)\n",
    "\n",
    "$$\\lim_{x\\to \\infty} \\Bigr(\\frac{4x}{4x+3}\\Bigl)^\\frac{5x^2}{7x-1}=(1^\\infty)=e^{\\lim_{x\\to\\infty}\\Bigl(\\frac{4x}{4x+3}-1\\Bigr)\\cdot\\frac{5x^2}{7x-1}}=e^{\\lim_{x\\to\\infty}\\frac{-3}{4x+3}\\cdot\\frac{5x^2}{7x-1}}=e^{\\frac{-3\\cdot5}{4\\cdot7}}=e^{-\\frac{15}{28}}$$\n",
    "\n",
    "ж*)\n",
    "\n",
    "$$\\lim_{x\\to +0} \\frac{5^x-1}{x}=\\Bigl(\\frac{0}{0}\\Bigr)=\\lim_{x\\to+0}\\frac{e^{x\\ln 5}-1}{x}=\\lim_{x\\to+0}\\frac{\\ln5(e^{x\\ln5}-1)}{x\\ln5}=\\ln5$$\n",
    "\n",
    "з*)\n",
    "\n",
    "$$\\lim_{x\\to +\\infty} \\frac{\\ln(x^2-x+1)}{\\ln(x^{10}+x+1)}=\\Bigl(\\frac{\\infty}{\\infty}\\Bigr)=\\lim_{x\\to+\\infty}\\frac{\\ln(x^2)+\\ln(1-\\frac{1}{x}+\\frac{1}{x^2})}{\\ln(x^{10})+\\ln(1+\\frac{1}{x^9}+\\frac{1}{x^{10}})}=\\frac{2\\ln(\\infty)}{10\\ln(\\infty)}=\\frac{2}{10}=\\frac{1}{5}$$"
   ]
  },
  {
   "cell_type": "markdown",
   "id": "a0a5181e",
   "metadata": {},
   "source": [
    "__2*.__ На языке Python предложить алгоритм вычисляющий численно предел последовательности\n",
    "\n",
    "### $$\\lim_{n\\to +\\infty} \\frac{n}{\\sqrt[n]{n!}}$$"
   ]
  },
  {
   "cell_type": "code",
   "execution_count": 10,
   "id": "5f0db18a",
   "metadata": {},
   "outputs": [],
   "source": [
    "from math import lgamma\n",
    "import numpy as np\n",
    "import math\n",
    "import time"
   ]
  },
  {
   "cell_type": "code",
   "execution_count": 11,
   "id": "abf67f60",
   "metadata": {},
   "outputs": [
    {
     "name": "stdout",
     "output_type": "stream",
     "text": [
      "2.7182665937361787 9.99955673819386e-12 1428290\n",
      "1.6848928928375244 seconds\n"
     ]
    }
   ],
   "source": [
    "# Через формулу Стирлинга\n",
    "start_time = time.time()\n",
    "\n",
    "def f(n):\n",
    "    return np.e/(2*np.pi*n)**(1/(2*n))\n",
    "acc = 0.00000000001\n",
    "i=2\n",
    "while(abs(f(i)-f(i-1)))>acc:\n",
    "    i +=1\n",
    "print(f(i), abs(f(i)-f(i-1)), i)\n",
    "print(\"%s seconds\" % (time.time()-start_time))"
   ]
  }
 ],
 "metadata": {
  "kernelspec": {
   "display_name": "Python 3",
   "language": "python",
   "name": "python3"
  },
  "language_info": {
   "codemirror_mode": {
    "name": "ipython",
    "version": 3
   },
   "file_extension": ".py",
   "mimetype": "text/x-python",
   "name": "python",
   "nbconvert_exporter": "python",
   "pygments_lexer": "ipython3",
   "version": "3.8.8"
  }
 },
 "nbformat": 4,
 "nbformat_minor": 5
}
