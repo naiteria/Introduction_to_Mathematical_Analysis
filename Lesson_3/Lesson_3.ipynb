{
 "cells": [
  {
   "cell_type": "markdown",
   "id": "f082788f",
   "metadata": {},
   "source": [
    "## Практическое задание к 3 уроку"
   ]
  },
  {
   "cell_type": "markdown",
   "id": "d0392789",
   "metadata": {},
   "source": [
    "__1.__ Найти предел последовательности:\n",
    "\n",
    "### $$а)\\,\\,\\,\\,\\lim_{n\\to \\infty} \\frac{(23-2n^2)(3n^2+17)^2}{4n^6+n-1}$$\n",
    "\n",
    "### $$б)\\,\\,\\,\\,\\lim_{n\\to \\infty} \\frac{(97-2n)^3}{2n(3n^2+15)+8n}$$\n",
    "\n",
    "### $$в)\\,\\,\\,\\,\\lim_{n\\to \\infty} \\frac{2n^3+13n(n+18)}{(27-n)(2n+19)^2}$$\n",
    "\n",
    "### $$г)\\,\\,\\,\\,\\lim_{n\\to \\infty} (\\sqrt{n^2+1}-n)$$\n",
    "\n",
    "### $$д)\\,\\,\\,\\,\\lim_{n\\to \\infty} \\frac{(-4)^n+5\\cdot7^n}{(-4)^{n-1}+7^{n+2}}$$\n",
    "\n",
    "### $$e)^*\\,\\,\\,\\,\\lim_{n\\to \\infty} \\Bigl(\\frac{1}{1\\cdot2}+\\frac{1}{2\\cdot3}+\\frac{1}{3\\cdot4}+...+\\frac{1}{(n-1)\\cdot n}\\Bigr)$$"
   ]
  },
  {
   "cell_type": "markdown",
   "id": "b48a3e2d",
   "metadata": {},
   "source": [
    "Решение:\n",
    " $$а)\\,\\,\\,\\,\\lim_{n\\to \\infty} \\frac{(23-2n^2)(3n^2+17)^2}{4n^6+n-1}=\\Bigl(\\frac{\\infty}{\\infty}\\Bigr)=\\frac{-2\\cdot3^2}{4}=-\\frac{9}{2}$$\n",
    " \n",
    " $$б)\\,\\,\\,\\,\\lim_{n\\to \\infty} \\frac{(97-2n)^3}{2n(3n^2+15)+8n}=\\Bigl(\\frac{\\infty}{\\infty}\\Bigr)=\\frac{(-2)^3}{2\\cdot3}=-\\frac{4}{3}$$\n",
    " \n",
    " $$в)\\,\\,\\,\\,\\lim_{n\\to \\infty} \\frac{2n^3+13n(n+18)}{(27-n)(2n+19)^2}=\\Bigl(\\frac{\\infty}{\\infty}\\Bigr)=\\frac{2}{-1\\cdot2^2}=-\\frac{1}{2}$$\n",
    " \n",
    " $$г)\\,\\,\\,\\,\\lim_{n\\to \\infty} (\\sqrt{n^2+1}-n)=\\Bigl(\\infty-\\infty\\Bigr)=\\lim_{n\\to \\infty} (\\sqrt{n^2+1}-n)\\cdot\\frac{\\sqrt{n^2+1}+n}{\\sqrt{n^2+1}+n}=\\lim_{n\\to \\infty}\\frac{n^2+1-n^2}{\\sqrt{n^2+1}+n}=\\lim_{n\\to \\infty}\\frac{1}{\\sqrt{n^2+1}+n}=0$$\n",
    " \n",
    " $$д)\\,\\,\\,\\,\\lim_{n\\to \\infty} \\frac{(-4)^n+5\\cdot7^n}{(-4)^{n-1}+7^{n+2}}=\\Bigl(\\frac{\\infty}{\\infty}\\Bigr)=\\lim_{n\\to \\infty}\\frac{(-4)^n+5\\cdot7^n}{\\Bigl(-\\frac{1}{4}\\Bigr)\\cdot(-4)^n+49\\cdot7^n}=\\lim_{n\\to \\infty}\\frac{7^n\\cdot\\Bigl(\\Bigl(-\\frac{4}{7}\\Bigr)^n+5\\Bigr)}{7^n\\cdot\\Bigl(\\Bigl(-\\frac{1}{4}\\Bigr)\\cdot\\Bigl(-\\frac{4}{7}\\Bigr)^n+49\\Bigr)}=\\frac{5}{49}$$\n",
    " \n",
    " $$e)^*\\,\\,\\,\\,\\lim_{n\\to \\infty} \\Bigl(\\frac{1}{1\\cdot2}+\\frac{1}{2\\cdot3}+\\frac{1}{3\\cdot4}+...+\\frac{1}{(n-1)\\cdot n}\\Bigr)=\\lim_{n\\to \\infty}\\Bigl(\\frac{1}{1}-\\frac{1}{2}+\\frac{1}{2}-\\frac{1}{3}+...+\\frac{1}{n}-\\frac{1}{n+1}\\Bigr)=\\lim_{n\\to\\infty}\\Bigl(1-\\frac{1}{n+1}\\Bigr)=1$$"
   ]
  },
  {
   "cell_type": "markdown",
   "id": "3079313b",
   "metadata": {},
   "source": [
    "__2.__ Представьте $1$ в виде суммы трех обыкновенных дробей с разными знаменателями и числителем равным $1$."
   ]
  },
  {
   "cell_type": "markdown",
   "id": "e4b242d4",
   "metadata": {},
   "source": [
    "Решение:\n",
    "\n",
    "$$1=\\frac{1}{2}+\\frac{1}{2}$$\n",
    "\n",
    "$$\\frac{1}{2}=\\frac{1}{2\\cdot3}+\\frac{1}{3}$$\n",
    "\n",
    "$$1=\\frac{1}{2}+\\frac{1}{6}+\\frac{1}{3}$$"
   ]
  },
  {
   "cell_type": "markdown",
   "id": "be38ffdb",
   "metadata": {},
   "source": [
    "__3$^*$.__ Тоже задание, только в виде суммы шести дробей."
   ]
  },
  {
   "cell_type": "markdown",
   "id": "325d4514",
   "metadata": {},
   "source": [
    "Решение:\n",
    "\n",
    "$$\\frac{1}{2}=\\frac{1}{2\\cdot3}+\\frac{1}{3}$$\n",
    "\n",
    "$$\\frac{1}{6}=\\frac{1}{6\\cdot7}+\\frac{1}{7}$$\n",
    "\n",
    "$$\\frac{1}{3}=\\frac{1}{3\\cdot4}+\\frac{1}{4}$$\n",
    "\n",
    "$$1=\\frac{1}{6}+\\frac{1}{3}+\\frac{1}{42}+\\frac{1}{7}+\\frac{1}{12}+\\frac{1}{4}$$"
   ]
  },
  {
   "cell_type": "markdown",
   "id": "7bbd0b20",
   "metadata": {},
   "source": [
    "__4.__ Пользуясь критерием Коши, докажите сходимость последовательности:\n",
    "\n",
    "### $$a_n=\\frac{\\sin1}{2}+\\frac{\\sin2}{2^2}+\\frac{\\sin3}{2^3}+..\\frac{\\sin n}{2^n}\\,\\,\\,\\,\\,\\Rightarrow$$\n",
    "\n",
    "### $$\\Bigl\\{a_n\\Bigr\\}_{n=1}^\\infty=\\Bigl\\{\\frac{\\sin1}{2}, \\frac{\\sin1}{2}+\\frac{\\sin2}{2^2}, ..., a_n,...\\Bigr\\}$$\n",
    "\n",
    "\n",
    "$^*$ Какой член последовательности можно взять в качестве предела с точностью $\\varepsilon=10^{-7}$?"
   ]
  },
  {
   "cell_type": "markdown",
   "id": "2517c3db",
   "metadata": {},
   "source": [
    "Решение:\n",
    "\n",
    "$$a_n=\\frac{\\sin1}{2}+\\frac{\\sin2}{2^2}+\\frac{\\sin3}{2^3}+..\\frac{\\sin n}{2^n}$$\n",
    "\n",
    "$$a_{n+k}=\\frac{\\sin1}{2}+\\frac{\\sin2}{2^2}+\\frac{\\sin3}{2^3}+..\\frac{\\sin(n+k)}{2^{n+k}}$$\n",
    "\n",
    "$$|a_n-a_{n+k}|=\\Bigl|\\frac{\\sin(n+1)}{2^{n+1}}+\\frac{\\sin(n+2)}{2^{n+2}}+...+\\frac{\\sin(n+k)}{2^{n+k}}\\Bigr|\\leq$$\n",
    "\n",
    "$$\\leq\\frac{|\\sin(n+1)|}{2^{n+1}}+\\frac{|\\sin(n+2)|}{2^{n+2}}+...+\\frac{|\\sin(n+k)|}{2^{n+k}}\\leq$$\n",
    "\n",
    "$$\\leq\\frac{1}{2^{n+1}}+\\frac{1}{2^{n+2}}+...+\\frac{1}{2^{n+k}}=\\frac{1}{2^n}\\Bigl(\\frac{1}{2}+\\frac{1}{2^2}+...+\\frac{1}{2^k}\\Bigr)=$$\n",
    "\n",
    "$$=\\frac{1}{2^n}\\cdot\\Bigl(1-\\frac{1}{2^k}\\Bigr)<\\frac{1}{2^n}<\\frac{1}{2^{N(\\varepsilon)}}=\\varepsilon$$\n",
    "\n",
    "Получается связь $N(\\varepsilon)=-\\log_2\\varepsilon$\n",
    "\n",
    "При таком подборе $N(\\varepsilon)$ неравенство будет выполняться автоматически, при этом формула верна для $\\forall\\varepsilon>0$. То есть последовательность сходится.\n",
    "\n",
    "Для точности $\\varepsilon=10^{-7}$ в качестве предела можем взять любой член больше 24.\n",
    "\n",
    "$$N(10^{-7})=-\\log_2 10^{-7}=7\\cdot\\log_2 10\\approx23,25$$"
   ]
  },
  {
   "cell_type": "markdown",
   "id": "5a8de25e",
   "metadata": {},
   "source": [
    "__5$^*$.__  Пользуясь критерием Коши, докажите расходимость последовательности:\n",
    "\n",
    "### $$b_n=1+\\frac{1}{2}+\\frac{1}{3}+..\\frac{1}{n}\\,\\,\\,\\,\\,\\Rightarrow$$\n",
    "\n",
    "### $$\\Bigl\\{b_n\\Bigr\\}_{n=1}^\\infty=\\Bigl\\{1, 1+\\frac{1}{2},1+\\frac{1}{2}+\\frac{1}{3}, ..., b_n,...\\Bigr\\}$$"
   ]
  },
  {
   "cell_type": "markdown",
   "id": "e38ef0bb",
   "metadata": {},
   "source": [
    "Решение:\n",
    "\n",
    "$$b_n=1+\\frac{1}{2}+\\frac{1}{3}+..\\frac{1}{n}$$\n",
    "\n",
    "$$b_{n+k}=1+\\frac{1}{2}+\\frac{1}{3}+..\\frac{1}{n+k}$$\n",
    "\n",
    "$$|b_n-b_{n+k}|=\\Bigl|\\frac{1}{n+1}+\\frac{1}{n+2}+...+\\frac{1}{n+k}\\Bigr|\\geq$$\n",
    "\n",
    "$$\\geq\\Bigl|\\frac{1}{n+k}+\\frac{1}{n+k}+...+\\frac{1}{n+k}\\Bigr|=$$\n",
    "\n",
    "$$=\\Bigl|k\\cdot\\frac{1}{n+k}\\Bigr|=\\frac{k}{n+k}=\\frac{n}{n+n}=\\frac{n}{2}={1}{2}=\\varepsilon$$\n",
    "При условии $k=n>N$, а $N$ может быть любым.\n",
    "\n",
    "То есть для конкретного $\\varepsilon=\\frac{1}{2}$ и $\\forall N$ вычислены $n$ и $k$, при которых выполняется неравенство. Следовательно последовательность расходится."
   ]
  },
  {
   "cell_type": "code",
   "execution_count": null,
   "id": "8235b30a",
   "metadata": {},
   "outputs": [],
   "source": []
  }
 ],
 "metadata": {
  "kernelspec": {
   "display_name": "Python 3",
   "language": "python",
   "name": "python3"
  },
  "language_info": {
   "codemirror_mode": {
    "name": "ipython",
    "version": 3
   },
   "file_extension": ".py",
   "mimetype": "text/x-python",
   "name": "python",
   "nbconvert_exporter": "python",
   "pygments_lexer": "ipython3",
   "version": "3.8.8"
  }
 },
 "nbformat": 4,
 "nbformat_minor": 5
}
